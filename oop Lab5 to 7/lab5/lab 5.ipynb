{
 "cells": [
  {
   "cell_type": "markdown",
   "id": "7e70f131-85b0-4171-8780-5ccd58f83e44",
   "metadata": {},
   "source": [
    "Lab 5 - Task\n",
    "Task 1; Create a Python program to model a library system:"
   ]
  },
  {
   "cell_type": "code",
   "execution_count": 1,
   "id": "4de30cfc-2399-45b3-a405-d685b0d74ed5",
   "metadata": {},
   "outputs": [
    {
     "name": "stdout",
     "output_type": "stream",
     "text": [
      "Book Info:\n",
      "Title: Trust And Inspire\n",
      "Author: Stifon Cowey\n",
      "Pages: 200\n",
      "\n",
      "Magazine Info:\n",
      "Title: Leader Ship\n",
      "Author: Various Author\n",
      "Issue Number: 250\n"
     ]
    }
   ],
   "source": [
    "class Item:\n",
    "    def __init__(self, title, author):\n",
    "        self.title = title\n",
    "        self.author = author\n",
    "\n",
    "    def displayinfo(self):\n",
    "        print(f\"Title: {self.title}\")\n",
    "        print(f\"Author: {self.author}\")\n",
    "\n",
    "class Book(Item):\n",
    "    def __init__(self, title, author, pages):\n",
    "        super().__init__(title, author)\n",
    "        self.pages = pages\n",
    "\n",
    "    def additionalinfo(self):\n",
    "        print(f\"Pages: {self.pages}\")\n",
    "\n",
    "class Magazine(Item):\n",
    "    def __init__(self, title, author, issuenumber):\n",
    "        super().__init__(title, author)\n",
    "        self.issuenumber = issuenumber\n",
    "\n",
    "    def additionalinfo(self):\n",
    "        print(f\"Issue Number: {self.issuenumber}\")\n",
    "\n",
    "book = Book(\"Trust And Inspire\", \"Stifon Cowey\", 200)\n",
    "magazine = Magazine(\"Leader Ship\", \"Various Author\", 250)\n",
    "\n",
    "print(f\"Book Info:\")\n",
    "book.displayinfo()\n",
    "book.additionalinfo()\n",
    "\n",
    "print(f\"\\nMagazine Info:\")\n",
    "magazine.displayinfo()\n",
    "magazine.additionalinfo()\n"
   ]
  }
 ],
 "metadata": {
  "kernelspec": {
   "display_name": "Python 3 (ipykernel)",
   "language": "python",
   "name": "python3"
  },
  "language_info": {
   "codemirror_mode": {
    "name": "ipython",
    "version": 3
   },
   "file_extension": ".py",
   "mimetype": "text/x-python",
   "name": "python",
   "nbconvert_exporter": "python",
   "pygments_lexer": "ipython3",
   "version": "3.11.7"
  }
 },
 "nbformat": 4,
 "nbformat_minor": 5
}
