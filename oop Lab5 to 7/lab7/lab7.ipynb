{
 "cells": [
  {
   "cell_type": "markdown",
   "id": "00e6cb92-3c6a-4e5b-b642-ed7ec9852e95",
   "metadata": {},
   "source": [
    "Task 1; Create a Python program to model a vehicle rental\n",
    "system:"
   ]
  },
  {
   "cell_type": "code",
   "execution_count": 3,
   "id": "c26e8b54-7e79-4f0f-b6d1-db1a44522b05",
   "metadata": {},
   "outputs": [
    {
     "name": "stdout",
     "output_type": "stream",
     "text": [
      "Vehicle Info:\n",
      "Make: BMW\n",
      "Model: M4\n",
      "\n",
      "Car Info:\n",
      "Make: Honda\n",
      "Model: Civic\n",
      "Number of Doors: 5\n",
      "\n",
      "Luxury Car Info:\n",
      "Make: BMW\n",
      "Model: 7 Series\n",
      "Number of Doors: 4\n"
     ]
    }
   ],
   "source": [
    "class Vehicle:\n",
    "    def __init__(self, make, model):\n",
    "        self.make = make\n",
    "        self.model = model\n",
    "\n",
    "    def displayinfo(self):\n",
    "        print(f\"Make: {self.make}\")\n",
    "        print(f\"Model: {self.model}\")\n",
    "\n",
    "class Car(Vehicle):\n",
    "    def __init__(self, make, model, numdoors):\n",
    "        super().__init__(make, model)\n",
    "        self.numdoors = numdoors\n",
    "\n",
    "    def additionalinfo(self):\n",
    "        print(f\"Number of Doors: {self.numdoors}\")\n",
    "\n",
    "class LuxuryCar(Car):\n",
    "    def __init__(self, make, model, numdoors, features):\n",
    "        super().__init__(make, model, numdoors)\n",
    "        self.features = features\n",
    "\n",
    "    def additional_info(self):\n",
    "        super().additionalinfo() \n",
    "        print(f\"Luxury Features: {', '.join(self.features)}\")\n",
    "\n",
    "def main():\n",
    "    vehicle = Vehicle(\"BMW\", \"M4\")\n",
    "    car = Car(\"Honda\", \"Civic\", 5)\n",
    "    luxurycar = LuxuryCar(\"BMW\", \"7 Series\", 4, [\"Leather seats\", \"Sunroof\", \"Premium sound system\"])\n",
    "\n",
    "    print(\"Vehicle Info:\")\n",
    "    vehicle.displayinfo()\n",
    "\n",
    "    print(\"\\nCar Info:\")\n",
    "    car.displayinfo()\n",
    "    car.additionalinfo()\n",
    "\n",
    "    print(\"\\nLuxury Car Info:\")\n",
    "    luxurycar.displayinfo()\n",
    "    luxurycar.additionalinfo()\n",
    "\n",
    "main()\n"
   ]
  },
  {
   "cell_type": "markdown",
   "id": "a09e6692-472a-4578-8a00-8d205cecb7d8",
   "metadata": {},
   "source": [
    "Task 2; Create a Python program to model a company's employee\n",
    "hierarchy:"
   ]
  },
  {
   "cell_type": "code",
   "execution_count": 4,
   "id": "591714f2-dd61-4ac1-a27b-522831f9b41c",
   "metadata": {},
   "outputs": [
    {
     "ename": "NameError",
     "evalue": "name 'hoursworked' is not defined",
     "output_type": "error",
     "traceback": [
      "\u001b[1;31m---------------------------------------------------------------------------\u001b[0m",
      "\u001b[1;31mNameError\u001b[0m                                 Traceback (most recent call last)",
      "Cell \u001b[1;32mIn[4], line 38\u001b[0m\n\u001b[0;32m     35\u001b[0m     worker\u001b[38;5;241m.\u001b[39mdisplayinfo()\n\u001b[0;32m     36\u001b[0m     worker\u001b[38;5;241m.\u001b[39madditionalinfo()\n\u001b[1;32m---> 38\u001b[0m main()\n",
      "Cell \u001b[1;32mIn[4], line 28\u001b[0m, in \u001b[0;36mmain\u001b[1;34m()\u001b[0m\n\u001b[0;32m     26\u001b[0m \u001b[38;5;28;01mdef\u001b[39;00m \u001b[38;5;21mmain\u001b[39m():\n\u001b[0;32m     27\u001b[0m     manager \u001b[38;5;241m=\u001b[39m Manager(\u001b[38;5;124m\"\u001b[39m\u001b[38;5;124mAli\u001b[39m\u001b[38;5;124m\"\u001b[39m, \u001b[38;5;124m\"\u001b[39m\u001b[38;5;124mManager\u001b[39m\u001b[38;5;124m\"\u001b[39m, \u001b[38;5;124m\"\u001b[39m\u001b[38;5;124mFinance\u001b[39m\u001b[38;5;124m\"\u001b[39m)\n\u001b[1;32m---> 28\u001b[0m     worker \u001b[38;5;241m=\u001b[39m Worker(\u001b[38;5;124m\"\u001b[39m\u001b[38;5;124mUmar\u001b[39m\u001b[38;5;124m\"\u001b[39m, \u001b[38;5;124m\"\u001b[39m\u001b[38;5;124mWorker\u001b[39m\u001b[38;5;124m\"\u001b[39m, \u001b[38;5;241m35\u001b[39m)\n\u001b[0;32m     30\u001b[0m     \u001b[38;5;28mprint\u001b[39m(\u001b[38;5;124mf\u001b[39m\u001b[38;5;124m\"\u001b[39m\u001b[38;5;124mManager Info:\u001b[39m\u001b[38;5;124m\"\u001b[39m)\n\u001b[0;32m     31\u001b[0m     manager\u001b[38;5;241m.\u001b[39mdisplayinfo()\n",
      "Cell \u001b[1;32mIn[4], line 21\u001b[0m, in \u001b[0;36mWorker.__init__\u001b[1;34m(self, name, position, hours_worked)\u001b[0m\n\u001b[0;32m     19\u001b[0m \u001b[38;5;28;01mdef\u001b[39;00m \u001b[38;5;21m__init__\u001b[39m(\u001b[38;5;28mself\u001b[39m, name, position, hours_worked):\n\u001b[0;32m     20\u001b[0m     \u001b[38;5;28msuper\u001b[39m()\u001b[38;5;241m.\u001b[39m\u001b[38;5;21m__init__\u001b[39m(name, position)\n\u001b[1;32m---> 21\u001b[0m     \u001b[38;5;28mself\u001b[39m\u001b[38;5;241m.\u001b[39mhoursworked \u001b[38;5;241m=\u001b[39m hoursworked\n",
      "\u001b[1;31mNameError\u001b[0m: name 'hoursworked' is not defined"
     ]
    }
   ],
   "source": [
    "class Employee:\n",
    "    def __init__(self, name, position):\n",
    "        self.name = name\n",
    "        self.position = position\n",
    "\n",
    "    def displayinfo(self):\n",
    "        print(f\"Name: {self.name}\")\n",
    "        print(f\"Position: {self.position}\")\n",
    "\n",
    "class Manager(Employee):\n",
    "    def __init__(self, name, position, department):\n",
    "        super().__init__(name, position)\n",
    "        self.department = department\n",
    "\n",
    "    def additionalinfo(self):\n",
    "        print(f\"Department: {self.department}\")\n",
    "        \n",
    "class Worker(Employee):\n",
    "    def __init__(self, name, position, hours_worked):\n",
    "        super().__init__(name, position)\n",
    "        self.hoursworked = hoursworked\n",
    "\n",
    "    def additionalinfo(self):\n",
    "        print(f\"Hours Worked: {self.hoursworked}\")\n",
    "\n",
    "def main():\n",
    "    manager = Manager(\"Ali\", \"Manager\", \"Finance\")\n",
    "    worker = Worker(\"Umar\", \"Worker\", 35)\n",
    "\n",
    "    print(f\"Manager Info:\")\n",
    "    manager.displayinfo()\n",
    "    manager.additionalinfo()\n",
    "\n",
    "    print(f\"\\nWorker Info:\")\n",
    "    worker.displayinfo()\n",
    "    worker.additionalinfo()\n",
    "\n",
    "main()\n"
   ]
  },
  {
   "cell_type": "code",
   "execution_count": 5,
   "id": "d0d82be1-0c21-4e67-80d7-81e0c3e91047",
   "metadata": {},
   "outputs": [
    {
     "name": "stdout",
     "output_type": "stream",
     "text": [
      "Manager Info:\n",
      "Name: Alice Johnson\n",
      "Position: Manager\n",
      "Department: Finance\n",
      "\n",
      "Worker Info:\n",
      "Name: Bob Smith\n",
      "Position: Worker\n",
      "Hours Worked: 40\n"
     ]
    }
   ],
   "source": [
    "# Parent class: Employee\n",
    "class Employee:\n",
    "    def __init__(self, name, position):\n",
    "        self.name = name\n",
    "        self.position = position\n",
    "\n",
    "    def display_info(self):\n",
    "        print(f\"Name: {self.name}\")\n",
    "        print(f\"Position: {self.position}\")\n",
    "\n",
    "# Child class: Manager, inheriting from Employee\n",
    "class Manager(Employee):\n",
    "    def __init__(self, name, position, department):\n",
    "        super().__init__(name, position)\n",
    "        self.department = department\n",
    "\n",
    "    def additional_info(self):\n",
    "        print(f\"Department: {self.department}\")\n",
    "\n",
    "# Child class: Worker, inheriting from Employee\n",
    "class Worker(Employee):\n",
    "    def __init__(self, name, position, hours_worked):\n",
    "        super().__init__(name, position)\n",
    "        self.hours_worked = hours_worked\n",
    "\n",
    "    def additional_info(self):\n",
    "        print(f\"Hours Worked: {self.hoursworked}\")\n",
    "\n",
    "def main():\n",
    "    manager = Manager(\"Ali\", \"Manager\", \"Finance\")\n",
    "    worker = Worker(\"Umar\", \"Worker\", 34)\n",
    "\n",
    "    print(f\"Manager Info:\")\n",
    "    manager.displayinfo()\n",
    "    manager.additionalinfo()\n",
    "\n",
    "    print(f\"\\nWorker Info:\")\n",
    "    worker.displayinfo()\n",
    "    worker.additionalinfo()\n",
    "\n",
    "main()\n"
   ]
  },
  {
   "cell_type": "code",
   "execution_count": null,
   "id": "ddb0dd9a-f49e-43f2-a804-ae306a988aa0",
   "metadata": {},
   "outputs": [],
   "source": []
  }
 ],
 "metadata": {
  "kernelspec": {
   "display_name": "Python 3 (ipykernel)",
   "language": "python",
   "name": "python3"
  },
  "language_info": {
   "codemirror_mode": {
    "name": "ipython",
    "version": 3
   },
   "file_extension": ".py",
   "mimetype": "text/x-python",
   "name": "python",
   "nbconvert_exporter": "python",
   "pygments_lexer": "ipython3",
   "version": "3.11.7"
  }
 },
 "nbformat": 4,
 "nbformat_minor": 5
}
