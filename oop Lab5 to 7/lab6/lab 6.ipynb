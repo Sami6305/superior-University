{
 "cells": [
  {
   "cell_type": "code",
   "execution_count": null,
   "id": "231d847f-3620-45bd-a7c7-e90912e4f13a",
   "metadata": {},
   "outputs": [],
   "source": [
    "class Course:\n",
    "    def __init__(self, coursecode, coursename):\n",
    "        self.coursecode = coursecode\n",
    "        self.coursename = coursename\n",
    "\n",
    "    def displayinfo(self):\n",
    "        print(f\"{self.coursecode} - {self.coursename}\")\n",
    "\n",
    "class UndergraduateCourse(Course):\n",
    "    def __init__(self, coursecode, coursename, yearlevel):\n",
    "        super().__init__(coursecode, coursename)\n",
    "        self.yearlevel = yearlevel\n",
    "\n",
    "    def additionalinfo(self):\n",
    "        print(f\"Year Level: {self.yearlevel}\")\n",
    "\n",
    "class GraduateCourse(Course):\n",
    "    def __init__(self, coursecode, coursename, researcharea):\n",
    "        super().__init__(coursecode, coursename)\n",
    "        self.researcharea = researcharea\n",
    "\n",
    "    def additionalinfo(self):\n",
    "        print(f\"Research Area: {self.researcharea}\")\n",
    "        \n",
    "def registercourse():\n",
    "    coursetype = input(\"Undergraduate (U) or Graduate (G)? \").upper()\n",
    "    code, name = input(\"Enter course code: \"), input(\"Enter course name: \")\n",
    "\n",
    "    if coursetype == 'U':\n",
    "        year = input(\"Enter year level: \")\n",
    "        course = UndergraduateCourse(code, name, year)\n",
    "    else:\n",
    "        area = input(\"Enter research area: \")\n",
    "        course = GraduateCourse(code, name, area)\n",
    "\n",
    "    course.displayinfo()\n",
    "    course.additionalinfo()\n",
    "\n",
    "register_course()\n"
   ]
  }
 ],
 "metadata": {
  "kernelspec": {
   "display_name": "Python 3 (ipykernel)",
   "language": "python",
   "name": "python3"
  },
  "language_info": {
   "codemirror_mode": {
    "name": "ipython",
    "version": 3
   },
   "file_extension": ".py",
   "mimetype": "text/x-python",
   "name": "python",
   "nbconvert_exporter": "python",
   "pygments_lexer": "ipython3",
   "version": "3.11.7"
  }
 },
 "nbformat": 4,
 "nbformat_minor": 5
}
