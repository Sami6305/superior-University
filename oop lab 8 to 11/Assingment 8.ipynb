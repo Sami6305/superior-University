{
 "cells": [
  {
   "cell_type": "markdown",
   "id": "f6f8fe98-c1ee-4a3c-bb41-1381bf40046e",
   "metadata": {},
   "source": [
    "Lab 8 - Task"
   ]
  },
  {
   "cell_type": "markdown",
   "id": "d3711be5-fcf6-4dd2-a482-c95e4d108a8d",
   "metadata": {},
   "source": [
    "Task 1; Create a Python program to manage employee details:"
   ]
  },
  {
   "cell_type": "markdown",
   "id": "bb603fd3-36b7-4421-86c3-eec6e301f8ab",
   "metadata": {},
   "source": [
    "1. Implement two parent classes:\n",
    "a. Person with attributes name and age\n",
    "b. Employee with attributes employee_id and position.\n",
    "Include methods display_info in both classes to display the respective details.\n",
    "2. Create a child class Staff inheriting from both Person and Employee. The Staff class\n",
    "should have an additional attribute department and a method additional_info to\n",
    "display the department.\n",
    "3. Implement file handling to read and write employee information to a text file.\n",
    "Include functions to read employee information from a file, add new employee\n",
    "information, and save employee information to the file.\n"
   ]
  },
  {
   "cell_type": "code",
   "execution_count": null,
   "id": "078ffe0a-0fab-429c-ae37-02a8d9a4a711",
   "metadata": {},
   "outputs": [],
   "source": []
  }
 ],
 "metadata": {
  "kernelspec": {
   "display_name": "Python 3 (ipykernel)",
   "language": "python",
   "name": "python3"
  },
  "language_info": {
   "codemirror_mode": {
    "name": "ipython",
    "version": 3
   },
   "file_extension": ".py",
   "mimetype": "text/x-python",
   "name": "python",
   "nbconvert_exporter": "python",
   "pygments_lexer": "ipython3",
   "version": "3.11.7"
  }
 },
 "nbformat": 4,
 "nbformat_minor": 5
}
