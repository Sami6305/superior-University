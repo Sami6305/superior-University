{
 "cells": [
  {
   "cell_type": "code",
   "execution_count": 1,
   "id": "54e7d3ca-fc61-4f38-bdb0-a86a26dec25e",
   "metadata": {},
   "outputs": [
    {
     "name": "stdout",
     "output_type": "stream",
     "text": [
      "Title: cars Collactions, Author: Ali, Publication Year: 2010\n"
     ]
    }
   ],
   "source": [
    "class Book:\n",
    "    def __init__(self, title, writer, year):\n",
    "        self.title = title\n",
    "        self.author = author\n",
    "        self.year = publicationyear\n",
    "\n",
    "    def __str__(self):\n",
    "        return f\"Title: {self.title}, Author: {self.author}, Publication Year: {self.year}\"\n",
    "\n",
    "book = Book(\"cars Collactions\", \"Ali\", 2010)\n",
    "print(book)\n"
   ]
  },
  {
   "cell_type": "code",
   "execution_count": null,
   "id": "74dbb4b0-d21c-4e19-ba0e-7a457d2760d1",
   "metadata": {},
   "outputs": [],
   "source": []
  }
 ],
 "metadata": {
  "kernelspec": {
   "display_name": "Python 3 (ipykernel)",
   "language": "python",
   "name": "python3"
  },
  "language_info": {
   "codemirror_mode": {
    "name": "ipython",
    "version": 3
   },
   "file_extension": ".py",
   "mimetype": "text/x-python",
   "name": "python",
   "nbconvert_exporter": "python",
   "pygments_lexer": "ipython3",
   "version": "3.11.7"
  }
 },
 "nbformat": 4,
 "nbformat_minor": 5
}
