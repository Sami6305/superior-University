{
 "cells": [
  {
   "cell_type": "code",
   "execution_count": 4,
   "id": "98d247e3-0549-4286-b2f6-9214c06112d2",
   "metadata": {},
   "outputs": [
    {
     "name": "stdin",
     "output_type": "stream",
     "text": [
      "Enter the width of the rectangle:  12\n",
      "Enter the height of the rectangle:  12\n"
     ]
    },
    {
     "name": "stdout",
     "output_type": "stream",
     "text": [
      "Rectangle: 12.0 x 12.0\n",
      "Area of the rectangle: 144.0\n",
      "Perimeter of the rectangle: 48.0\n"
     ]
    }
   ],
   "source": [
    "class Rectangle:\n",
    "    def __init__(self, width, height):\n",
    "        self.width = width  \n",
    "        self.height = height  \n",
    "\n",
    "    def __str__(self):\n",
    "        return f\"Rectangle: {self.width} x {self.height}\"\n",
    "\n",
    "    def area(self):\n",
    "        return self.width * self.height\n",
    "\n",
    "    def peri(self):\n",
    "        return 2 * (self.width + self.height)\n",
    "\n",
    "width = float(input(f\"Enter the width of the rectangle: \"))\n",
    "height = float(input(f\"Enter the height of the rectangle: \"))\n",
    "\n",
    "rectangle = Rectangle(width, height)\n",
    "\n",
    "print(rectangle)\n",
    "\n",
    "print(f\"Area of the rectangle: {rectangle.area()}\")\n",
    "\n",
    "print(f\"Perimeter of the rectangle: {rectangle.peri()}\")\n"
   ]
  },
  {
   "cell_type": "code",
   "execution_count": null,
   "id": "b28a7e5a-8f8e-46ed-9f22-4b712b238a83",
   "metadata": {},
   "outputs": [],
   "source": []
  }
 ],
 "metadata": {
  "kernelspec": {
   "display_name": "Python 3 (ipykernel)",
   "language": "python",
   "name": "python3"
  },
  "language_info": {
   "codemirror_mode": {
    "name": "ipython",
    "version": 3
   },
   "file_extension": ".py",
   "mimetype": "text/x-python",
   "name": "python",
   "nbconvert_exporter": "python",
   "pygments_lexer": "ipython3",
   "version": "3.11.7"
  }
 },
 "nbformat": 4,
 "nbformat_minor": 5
}
