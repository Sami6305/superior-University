{
 "cells": [
  {
   "cell_type": "markdown",
   "id": "58d12acb-59c2-48ae-a997-eaabb3e28091",
   "metadata": {},
   "source": [
    "Task 1;\n",
    "Write a Python function to determine whether a given number is\n",
    "prime or not. Your program should have the following features:\n"
   ]
  },
  {
   "cell_type": "code",
   "execution_count": null,
   "id": "6c3477a6-eab9-443f-b6ae-dc086c61bfb7",
   "metadata": {},
   "outputs": [
    {
     "name": "stdin",
     "output_type": "stream",
     "text": [
      "Enter a number (or type 'exit' to quit):  21\n"
     ]
    },
    {
     "name": "stdout",
     "output_type": "stream",
     "text": [
      "21 is not a prime number.\n"
     ]
    },
    {
     "name": "stdin",
     "output_type": "stream",
     "text": [
      "Enter a number (or type 'exit' to quit):  quit\n"
     ]
    },
    {
     "name": "stdout",
     "output_type": "stream",
     "text": [
      "Please enter a valid number.\n"
     ]
    }
   ],
   "source": [
    "def prime(number):\n",
    "    if number < 2:\n",
    "        return False\n",
    "    for i in range(2, number):\n",
    "        if number % i == 0:\n",
    "            return False\n",
    "    return True\n",
    "while True:\n",
    "    userinput = input(f\"Enter a number (or type 'exit' to quit): \")\n",
    "    if userinput.lower() == 'exit':\n",
    "        print(\"Exiting the program.\")\n",
    "        break\n",
    "    \n",
    "    if userinput.isdigit():\n",
    "        number = int(userinput)\n",
    "        \n",
    "        \n",
    "        if prime(number):\n",
    "            print(f\"{number} is a prime number.\")\n",
    "        else:\n",
    "            print(f\"{number} is not a prime number.\")\n",
    "    else:\n",
    "        print(\"Please enter a valid number.\")\n"
   ]
  },
  {
   "cell_type": "code",
   "execution_count": null,
   "id": "b58e47ad-1d20-4b0e-88a5-7c6c2f1592ec",
   "metadata": {},
   "outputs": [],
   "source": []
  }
 ],
 "metadata": {
  "kernelspec": {
   "display_name": "Python 3 (ipykernel)",
   "language": "python",
   "name": "python3"
  },
  "language_info": {
   "codemirror_mode": {
    "name": "ipython",
    "version": 3
   },
   "file_extension": ".py",
   "mimetype": "text/x-python",
   "name": "python",
   "nbconvert_exporter": "python",
   "pygments_lexer": "ipython3",
   "version": "3.11.7"
  }
 },
 "nbformat": 4,
 "nbformat_minor": 5
}
